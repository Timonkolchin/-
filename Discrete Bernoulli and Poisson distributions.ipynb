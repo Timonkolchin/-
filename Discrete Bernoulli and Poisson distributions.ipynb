{
 "cells": [
  {
   "cell_type": "markdown",
   "id": "3092d4ea",
   "metadata": {
    "id": "3092d4ea"
   },
   "source": [
    "## Задача 1 \n",
    "\n",
    "Имеется партия из десяти деталей. Вероятность, что деталь оказалась бракованной, для данной партии составляет $4/5 = 0.8.$ Определите, с какой вероятностью половина деталей окажется бракованной.\n",
    "\n",
    "Напишите функцию для расчёта этой вероятности. Используете биномиальное распределение.\n",
    "\n",
    " \n",
    "\n",
    "\n"
   ]
  },
  {
   "cell_type": "code",
   "execution_count": 1,
   "id": "859c4d2b",
   "metadata": {
    "ExecuteTime": {
     "end_time": "2022-02-23T19:39:15.915860Z",
     "start_time": "2022-02-23T19:39:15.902436Z"
    },
    "id": "859c4d2b"
   },
   "outputs": [],
   "source": [
    "# Условия задачи\n",
    "n = 10\n",
    "k = 5\n",
    "p = 0.8"
   ]
  },
  {
   "cell_type": "code",
   "execution_count": 2,
   "id": "3a3dc5b2",
   "metadata": {},
   "outputs": [],
   "source": [
    "import math"
   ]
  },
  {
   "cell_type": "code",
   "execution_count": 3,
   "id": "f7c601af",
   "metadata": {},
   "outputs": [
    {
     "name": "stdout",
     "output_type": "stream",
     "text": [
      "0.026424115199999976\n"
     ]
    }
   ],
   "source": [
    "def binomial(n: int, k: int,p: float) -> float:\n",
    "        return (math.factorial(n) / (math.factorial(k) * math.factorial(n - k))) * (p ** k) * ((1 - p) ** (n - k))\n",
    "print(binomial(10, 5, 4/5))"
   ]
  },
  {
   "cell_type": "markdown",
   "id": "f8266e27",
   "metadata": {
    "ExecuteTime": {
     "end_time": "2022-01-28T23:12:51.463454Z",
     "start_time": "2022-01-28T23:12:51.458075Z"
    },
    "id": "f8266e27"
   },
   "source": [
    "### Задача 2.  \n",
    "\n",
    "Вратарь последовательно отражает семь ударов в ворота от игрока. Вероятность этого составляет $0.3$ каждый раз независимо от характеристик удара. Найдите вероятность, с которой вратарь отразит хотя бы три удара. Используете биномиальное распределение.\n",
    "\n",
    "\n",
    "\n"
   ]
  },
  {
   "cell_type": "code",
   "execution_count": null,
   "id": "a1349322",
   "metadata": {
    "id": "a1349322"
   },
   "outputs": [],
   "source": [
    "# Ваше решение"
   ]
  },
  {
   "cell_type": "code",
   "execution_count": null,
   "id": "6804740d",
   "metadata": {},
   "outputs": [],
   "source": [
    "# Условие\n",
    "n = 7\n",
    "P_7_7 = 0.3"
   ]
  },
  {
   "cell_type": "code",
   "execution_count": 10,
   "id": "783504c4",
   "metadata": {},
   "outputs": [
    {
     "name": "stdout",
     "output_type": "stream",
     "text": [
      "0.0023123029817508018\n"
     ]
    }
   ],
   "source": [
    "print(binomial(7, 3, 0.3*1/7))"
   ]
  },
  {
   "cell_type": "markdown",
   "id": "29bad2c6",
   "metadata": {
    "id": "29bad2c6"
   },
   "source": [
    "### Задача 3.  \n",
    "\n",
    "Представьте, что вы сделали бросок пары игральных кубиков десять раз подряд. При каждом броске получаете два значения на двух кубиках. Рассмотрите вероятность, при которой один раз выпадет пара из двух шестёрок. Найдите её:\n",
    "с помощью биномиального распределения;\n",
    "с помощью распределения Пуассона, используя закон редких событий. \n"
   ]
  },
  {
   "cell_type": "code",
   "execution_count": null,
   "id": "ba31752e",
   "metadata": {
    "ExecuteTime": {
     "end_time": "2022-02-23T19:39:17.014992Z",
     "start_time": "2022-02-23T19:39:17.011993Z"
    },
    "id": "ba31752e"
   },
   "outputs": [],
   "source": [
    "# Условие задачи\n",
    "n = 10\n",
    "p = 1/36\n",
    "k = 1"
   ]
  },
  {
   "cell_type": "code",
   "execution_count": 12,
   "id": "1f2e7400",
   "metadata": {},
   "outputs": [
    {
     "name": "stdout",
     "output_type": "stream",
     "text": [
      "0.2155695382569838\n"
     ]
    }
   ],
   "source": [
    "# Биномиальное распределение\n",
    "print(binomial(10, 1, 1/36))"
   ]
  },
  {
   "cell_type": "code",
   "execution_count": 37,
   "id": "0ef14494",
   "metadata": {},
   "outputs": [
    {
     "data": {
      "text/plain": [
       "0.21040698011026845"
      ]
     },
     "execution_count": 37,
     "metadata": {},
     "output_type": "execute_result"
    }
   ],
   "source": [
    "# распределения Пуассона\n",
    "math.exp(-(n*p)) * (n*p)**1"
   ]
  },
  {
   "cell_type": "code",
   "execution_count": null,
   "id": "d0a98e97",
   "metadata": {},
   "outputs": [],
   "source": []
  }
 ],
 "metadata": {
  "colab": {
   "collapsed_sections": [],
   "name": "Модуль 3 Практика 2.ipynb",
   "provenance": []
  },
  "kernelspec": {
   "display_name": "Python 3 (ipykernel)",
   "language": "python",
   "name": "python3"
  },
  "language_info": {
   "codemirror_mode": {
    "name": "ipython",
    "version": 3
   },
   "file_extension": ".py",
   "mimetype": "text/x-python",
   "name": "python",
   "nbconvert_exporter": "python",
   "pygments_lexer": "ipython3",
   "version": "3.9.12"
  },
  "toc": {
   "base_numbering": 1,
   "nav_menu": {},
   "number_sections": true,
   "sideBar": true,
   "skip_h1_title": false,
   "title_cell": "Table of Contents",
   "title_sidebar": "Contents",
   "toc_cell": false,
   "toc_position": {},
   "toc_section_display": true,
   "toc_window_display": false
  }
 },
 "nbformat": 4,
 "nbformat_minor": 5
}
