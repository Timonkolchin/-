{
 "cells": [
  {
   "cell_type": "markdown",
   "metadata": {
    "id": "vWRlpD8wmGom"
   },
   "source": [
    "### **Задание 1**\n",
    "\n",
    "Даны таблицы с суммами и произведениями значений при броске двух кубиков. Используя эти таблицы, вычислите вероятности следующих сложных событий.\n",
    "\n",
    "<p align=\"left\">\n",
    "  <img src=\"https://drive.google.com/uc?id=1If1NDfwPCfLC6JHqxa5IDgXLRzrbB-sI\" alt=\"drawing\" width=\"600\"/>\n",
    "</p>\n",
    "\n",
    "<p align=\"left\">\n",
    "  <img src=\"https://drive.google.com/uc?id=1vWNTqND6br6XzESVSwqKjK9AqeN0-k-4\" alt=\"drawing\" width=\"600\"/>\n",
    "</p>\n",
    "\n",
    "1. Вероятность, что полученная сумма значений на кубиках — нечётное число.\n"
   ]
  },
  {
   "cell_type": "code",
   "execution_count": 2,
   "metadata": {},
   "outputs": [],
   "source": [
    "kub_1 = [1, 2, 3, 4, 5, 6]"
   ]
  },
  {
   "cell_type": "code",
   "execution_count": 3,
   "metadata": {},
   "outputs": [
    {
     "name": "stdout",
     "output_type": "stream",
     "text": [
      "[2, 3, 4, 5, 6, 7, 3, 4, 5, 6, 7, 8, 4, 5, 6, 7, 8, 9, 5, 6, 7, 8, 9, 10, 6, 7, 8, 9, 10, 11, 7, 8, 9, 10, 11, 12]\n"
     ]
    },
    {
     "data": {
      "text/plain": [
       "36"
      ]
     },
     "execution_count": 3,
     "metadata": {},
     "output_type": "execute_result"
    }
   ],
   "source": [
    "sum_val = []\n",
    "for i in kub_1:\n",
    "    a = 0\n",
    "    for j in kub_1:\n",
    "        a = i+j\n",
    "        sum_val.append(a)\n",
    "print(sum_val)\n",
    "len(sum_val)"
   ]
  },
  {
   "cell_type": "code",
   "execution_count": 4,
   "metadata": {},
   "outputs": [
    {
     "name": "stdout",
     "output_type": "stream",
     "text": [
      "[1, 2, 3, 4, 5, 6, 2, 4, 6, 8, 10, 12, 3, 6, 9, 12, 15, 18, 4, 8, 12, 16, 20, 24, 5, 10, 15, 20, 25, 30, 6, 12, 18, 24, 30, 36]\n"
     ]
    },
    {
     "data": {
      "text/plain": [
       "36"
      ]
     },
     "execution_count": 4,
     "metadata": {},
     "output_type": "execute_result"
    }
   ],
   "source": [
    "mult_val = []\n",
    "for i in kub_1:\n",
    "    a = 0\n",
    "    for j in kub_1:\n",
    "        a = i*j\n",
    "        mult_val.append(a)\n",
    "print(mult_val)\n",
    "len(mult_val)"
   ]
  },
  {
   "cell_type": "code",
   "execution_count": 5,
   "metadata": {
    "id": "op3eZLlXm7N6"
   },
   "outputs": [
    {
     "name": "stdout",
     "output_type": "stream",
     "text": [
      "Вероятность, что полученная сумма значений на кубиках — нечётное число составляет:  0.5\n"
     ]
    }
   ],
   "source": [
    "a = 0\n",
    "for i in sum_val:\n",
    "    if i %2 != 0:\n",
    "        a += 1\n",
    "print('Вероятность, что полученная сумма значений на кубиках — нечётное число составляет: ', a/len(sum_val))"
   ]
  },
  {
   "cell_type": "markdown",
   "metadata": {
    "id": "6cgcddHem7qV"
   },
   "source": [
    "2. Вероятность, что полученная сумма значений на кубиках — число, кратное трём.\n",
    "\n"
   ]
  },
  {
   "cell_type": "code",
   "execution_count": 6,
   "metadata": {
    "id": "YyJ5fkQvm-ev"
   },
   "outputs": [
    {
     "name": "stdout",
     "output_type": "stream",
     "text": [
      "Вероятность, что полученная сумма значений на кубиках — число, кратное трём составляет:  0.3333333333333333\n"
     ]
    }
   ],
   "source": [
    "a = 0\n",
    "for i in sum_val:\n",
    "    if i %3 == 0:\n",
    "        a += 1\n",
    "print('Вероятность, что полученная сумма значений на кубиках — число, кратное трём составляет: ', a/len(sum_val))"
   ]
  },
  {
   "cell_type": "markdown",
   "metadata": {
    "id": "87xRZ-Ydm_bd"
   },
   "source": [
    "3. Вероятность, что сумма будет меньше пяти или больше десяти.\n"
   ]
  },
  {
   "cell_type": "code",
   "execution_count": 7,
   "metadata": {
    "id": "4XqHSi9BnCVs"
   },
   "outputs": [
    {
     "name": "stdout",
     "output_type": "stream",
     "text": [
      "Вероятность, что сумма будет меньше пяти или больше десяти составляет:  0.25\n"
     ]
    }
   ],
   "source": [
    "a = 0\n",
    "for i in sum_val:\n",
    "    if i < 5 or i > 10:\n",
    "        a += 1\n",
    "print('Вероятность, что сумма будет меньше пяти или больше десяти составляет: ', a/len(sum_val))"
   ]
  },
  {
   "cell_type": "markdown",
   "metadata": {
    "id": "Dk0iqlGCnCoK"
   },
   "source": [
    "4. Вероятность, что произведение значений будет равно двенадцати.\n"
   ]
  },
  {
   "cell_type": "code",
   "execution_count": 8,
   "metadata": {
    "id": "4DsrJuKWnE_W"
   },
   "outputs": [
    {
     "name": "stdout",
     "output_type": "stream",
     "text": [
      "Вероятность, что произведение значений будет равно двенадцати составляет:  0.1111111111111111\n"
     ]
    }
   ],
   "source": [
    "a = 0\n",
    "for i in mult_val:\n",
    "    if i == 12:\n",
    "        a += 1\n",
    "print('Вероятность, что произведение значений будет равно двенадцати составляет: ', a/len(sum_val))"
   ]
  },
  {
   "cell_type": "markdown",
   "metadata": {
    "id": "61Qt7YUlnFXc"
   },
   "source": [
    "5. Вероятность, что произведение значений — нечётно.\n"
   ]
  },
  {
   "cell_type": "code",
   "execution_count": 9,
   "metadata": {
    "id": "NH4jaPzCnIIt"
   },
   "outputs": [
    {
     "name": "stdout",
     "output_type": "stream",
     "text": [
      "Вероятность, что произведение значений будет равно двенадцати составляет:  0.25\n"
     ]
    }
   ],
   "source": [
    "a = 0\n",
    "for i in mult_val:\n",
    "    if i % 2 != 0:\n",
    "        a += 1\n",
    "print('Вероятность, что произведение значений будет равно двенадцати составляет: ', a/len(sum_val))"
   ]
  },
  {
   "cell_type": "markdown",
   "metadata": {
    "id": "x1FyFtv9nJES"
   },
   "source": [
    "6. Вероятность, что сумма значений окажется больше или равной их произведению."
   ]
  },
  {
   "cell_type": "code",
   "execution_count": 10,
   "metadata": {
    "id": "qrPXWQYEnah2"
   },
   "outputs": [
    {
     "name": "stdout",
     "output_type": "stream",
     "text": [
      "Вероятность, что произведение значений будет равно двенадцати составляет:  0.3333333333333333 12\n"
     ]
    }
   ],
   "source": [
    "a = 0\n",
    "for i in range(len(sum_val)):\n",
    "    if sum_val[i] >= mult_val[i]:\n",
    "        a += 1\n",
    "print('Вероятность, что произведение значений будет равно двенадцати составляет: ', a/len(sum_val), a)"
   ]
  },
  {
   "cell_type": "markdown",
   "metadata": {
    "id": "HGqYRvcQnier"
   },
   "source": [
    "### **Задание 2**\n",
    "Загрузите данные о пассажирах «Титаника» из файла titanic.csv в приложенных к практической работе файлах. Ограничьтесь набором таких переменных, как класс билета пассажира, пол и переменной, показывающей, выжил он или нет.\n"
   ]
  },
  {
   "cell_type": "code",
   "execution_count": 11,
   "metadata": {},
   "outputs": [],
   "source": [
    "import pandas as pd"
   ]
  },
  {
   "cell_type": "code",
   "execution_count": 12,
   "metadata": {
    "id": "ua6B5AdRa2Oj"
   },
   "outputs": [
    {
     "data": {
      "text/html": [
       "<div>\n",
       "<style scoped>\n",
       "    .dataframe tbody tr th:only-of-type {\n",
       "        vertical-align: middle;\n",
       "    }\n",
       "\n",
       "    .dataframe tbody tr th {\n",
       "        vertical-align: top;\n",
       "    }\n",
       "\n",
       "    .dataframe thead th {\n",
       "        text-align: right;\n",
       "    }\n",
       "</style>\n",
       "<table border=\"1\" class=\"dataframe\">\n",
       "  <thead>\n",
       "    <tr style=\"text-align: right;\">\n",
       "      <th></th>\n",
       "      <th>PassengerId</th>\n",
       "      <th>Survived</th>\n",
       "      <th>Pclass</th>\n",
       "      <th>Sex</th>\n",
       "    </tr>\n",
       "  </thead>\n",
       "  <tbody>\n",
       "    <tr>\n",
       "      <th>0</th>\n",
       "      <td>1</td>\n",
       "      <td>0</td>\n",
       "      <td>3</td>\n",
       "      <td>male</td>\n",
       "    </tr>\n",
       "    <tr>\n",
       "      <th>1</th>\n",
       "      <td>2</td>\n",
       "      <td>1</td>\n",
       "      <td>1</td>\n",
       "      <td>female</td>\n",
       "    </tr>\n",
       "    <tr>\n",
       "      <th>2</th>\n",
       "      <td>3</td>\n",
       "      <td>1</td>\n",
       "      <td>3</td>\n",
       "      <td>female</td>\n",
       "    </tr>\n",
       "    <tr>\n",
       "      <th>3</th>\n",
       "      <td>4</td>\n",
       "      <td>1</td>\n",
       "      <td>1</td>\n",
       "      <td>female</td>\n",
       "    </tr>\n",
       "    <tr>\n",
       "      <th>4</th>\n",
       "      <td>5</td>\n",
       "      <td>0</td>\n",
       "      <td>3</td>\n",
       "      <td>male</td>\n",
       "    </tr>\n",
       "    <tr>\n",
       "      <th>...</th>\n",
       "      <td>...</td>\n",
       "      <td>...</td>\n",
       "      <td>...</td>\n",
       "      <td>...</td>\n",
       "    </tr>\n",
       "    <tr>\n",
       "      <th>886</th>\n",
       "      <td>887</td>\n",
       "      <td>0</td>\n",
       "      <td>2</td>\n",
       "      <td>male</td>\n",
       "    </tr>\n",
       "    <tr>\n",
       "      <th>887</th>\n",
       "      <td>888</td>\n",
       "      <td>1</td>\n",
       "      <td>1</td>\n",
       "      <td>female</td>\n",
       "    </tr>\n",
       "    <tr>\n",
       "      <th>888</th>\n",
       "      <td>889</td>\n",
       "      <td>0</td>\n",
       "      <td>3</td>\n",
       "      <td>female</td>\n",
       "    </tr>\n",
       "    <tr>\n",
       "      <th>889</th>\n",
       "      <td>890</td>\n",
       "      <td>1</td>\n",
       "      <td>1</td>\n",
       "      <td>male</td>\n",
       "    </tr>\n",
       "    <tr>\n",
       "      <th>890</th>\n",
       "      <td>891</td>\n",
       "      <td>0</td>\n",
       "      <td>3</td>\n",
       "      <td>male</td>\n",
       "    </tr>\n",
       "  </tbody>\n",
       "</table>\n",
       "<p>891 rows × 4 columns</p>\n",
       "</div>"
      ],
      "text/plain": [
       "     PassengerId  Survived  Pclass     Sex\n",
       "0              1         0       3    male\n",
       "1              2         1       1  female\n",
       "2              3         1       3  female\n",
       "3              4         1       1  female\n",
       "4              5         0       3    male\n",
       "..           ...       ...     ...     ...\n",
       "886          887         0       2    male\n",
       "887          888         1       1  female\n",
       "888          889         0       3  female\n",
       "889          890         1       1    male\n",
       "890          891         0       3    male\n",
       "\n",
       "[891 rows x 4 columns]"
      ]
     },
     "execution_count": 12,
     "metadata": {},
     "output_type": "execute_result"
    }
   ],
   "source": [
    "titanic = pd.read_csv(\"train.csv\")\n",
    "X = titanic[['PassengerId','Survived','Pclass','Sex']]\n",
    "X\n"
   ]
  },
  {
   "cell_type": "code",
   "execution_count": 13,
   "metadata": {},
   "outputs": [
    {
     "name": "stdout",
     "output_type": "stream",
     "text": [
      "<class 'pandas.core.frame.DataFrame'>\n",
      "RangeIndex: 891 entries, 0 to 890\n",
      "Data columns (total 4 columns):\n",
      " #   Column       Non-Null Count  Dtype \n",
      "---  ------       --------------  ----- \n",
      " 0   PassengerId  891 non-null    int64 \n",
      " 1   Survived     891 non-null    int64 \n",
      " 2   Pclass       891 non-null    int64 \n",
      " 3   Sex          891 non-null    object\n",
      "dtypes: int64(3), object(1)\n",
      "memory usage: 28.0+ KB\n"
     ]
    }
   ],
   "source": [
    "X.info() "
   ]
  },
  {
   "cell_type": "markdown",
   "metadata": {
    "id": "VREyy_REoXJ2"
   },
   "source": [
    "1. Запишите в P_fem вероятность, что случайный пассажир «Титаника» — женщина.\n"
   ]
  },
  {
   "cell_type": "code",
   "execution_count": 14,
   "metadata": {},
   "outputs": [
    {
     "data": {
      "text/plain": [
       "male      0.647587\n",
       "female    0.352413\n",
       "Name: Sex, dtype: float64"
      ]
     },
     "execution_count": 14,
     "metadata": {},
     "output_type": "execute_result"
    }
   ],
   "source": [
    "X['Sex'].value_counts(normalize=True) "
   ]
  },
  {
   "cell_type": "code",
   "execution_count": 15,
   "metadata": {},
   "outputs": [
    {
     "name": "stdout",
     "output_type": "stream",
     "text": [
      "вероятность, что случайный пассажир «Титаника» — женщина составляет:  0.35241301907968575\n"
     ]
    }
   ],
   "source": [
    "a = X['Sex'].values\n",
    "b = 0\n",
    "for i in a:\n",
    "    if i == 'female':\n",
    "        b += 1\n",
    "P_fem = b/len(a)\n",
    "print('вероятность, что случайный пассажир «Титаника» — женщина составляет: ', P_fem)\n"
   ]
  },
  {
   "cell_type": "markdown",
   "metadata": {
    "id": "NrQTNxYbpKod"
   },
   "source": [
    "2. Запишите в P_1class вероятность, что случайный пассажир «Титаника» ехал в первом классе.\n"
   ]
  },
  {
   "cell_type": "code",
   "execution_count": 17,
   "metadata": {
    "id": "G3MuKPrvpgwN"
   },
   "outputs": [
    {
     "name": "stdout",
     "output_type": "stream",
     "text": [
      "вероятность, что случайный пассажир «Титаника» ехал в первом классе:  0.24242424242424243\n"
     ]
    }
   ],
   "source": [
    "a = X['Pclass'].values\n",
    "b = 0\n",
    "for i in a:\n",
    "    if i == 1:\n",
    "        b += 1\n",
    "P_1class = b/len(a)\n",
    "print('вероятность, что случайный пассажир «Титаника» ехал в первом классе: ', P_1class)"
   ]
  },
  {
   "cell_type": "markdown",
   "metadata": {
    "id": "K621BwxepMms"
   },
   "source": [
    "3. Запишите в P_surv вероятность, что случайный пассажир «Титаника» выжил.\n"
   ]
  },
  {
   "cell_type": "code",
   "execution_count": 18,
   "metadata": {
    "id": "Y_hErf_ypjNQ"
   },
   "outputs": [
    {
     "name": "stdout",
     "output_type": "stream",
     "text": [
      "вероятность, что случайный пассажир «Титаника» ехал в первом классе:  0.3838383838383838\n"
     ]
    }
   ],
   "source": [
    "a = X['Survived'].values\n",
    "b = 0\n",
    "for i in a:\n",
    "    if i == 1:\n",
    "        b += 1\n",
    "P_surv = b/len(a)\n",
    "print('вероятность, что случайный пассажир «Титаника» ехал в первом классе: ', P_surv)"
   ]
  },
  {
   "cell_type": "markdown",
   "metadata": {
    "id": "DpnGD270pP34"
   },
   "source": [
    "4. Запишите в P_fem_surv вероятность, что пассажир — женщина, и одновременно с этим пассажир выжила в катастрофе.\n"
   ]
  },
  {
   "cell_type": "code",
   "execution_count": 19,
   "metadata": {
    "id": "L5eF1s-EplNF"
   },
   "outputs": [
    {
     "name": "stdout",
     "output_type": "stream",
     "text": [
      "вероятность, что пассажир — женщина, и одновременно с этим пассажир выжила в катастрофе:  0.6812865497076024\n"
     ]
    }
   ],
   "source": [
    "a = X['Survived'].values\n",
    "b = X['Sex'].values\n",
    "\n",
    "c = []\n",
    "for i in range(len(a)):\n",
    "    if a[i] == 1:\n",
    "        c.append(b[i])\n",
    "\n",
    "n = 0\n",
    "for j in c:\n",
    "    if j == 'female':\n",
    "        n += 1\n",
    "P_fem_surv = n/len(c)\n",
    "print('вероятность, что пассажир — женщина, и одновременно с этим пассажир выжила в катастрофе: ', P_fem_surv)\n"
   ]
  },
  {
   "cell_type": "markdown",
   "metadata": {
    "id": "fZeLtDlQpRW9"
   },
   "source": [
    "5. Найдите условную вероятность того, что пассажир выживет, при условии, если пассажир — женщина.\n"
   ]
  },
  {
   "cell_type": "code",
   "execution_count": 20,
   "metadata": {
    "id": "Im6UwOEzpr_w"
   },
   "outputs": [
    {
     "name": "stdout",
     "output_type": "stream",
     "text": [
      "условную вероятность того, что пассажир выживет, при условии, если пассажир — женщина:  0.7420382165605095\n"
     ]
    }
   ],
   "source": [
    "a = X['Sex'].values\n",
    "b = X['Survived'].values\n",
    "c = []\n",
    "for i in range(len(a)):\n",
    "    if a[i] == 'female':\n",
    "        c.append(b[i])\n",
    "\n",
    "n = 0\n",
    "for j in c:\n",
    "    if j == 1:\n",
    "        n += 1\n",
    "\n",
    "P_cond_surv_fem = n/len(c)\n",
    "print('условную вероятность того, что пассажир выживет, при условии, если пассажир — женщина: ', P_cond_surv_fem)"
   ]
  },
  {
   "cell_type": "markdown",
   "metadata": {
    "id": "qOs5rtX1pT94"
   },
   "source": [
    "6. По аналогии найдите вероятность того, что пассажир выживет, если пассажир ехал в первом классе.\n"
   ]
  },
  {
   "cell_type": "code",
   "execution_count": 21,
   "metadata": {
    "id": "c5wuOMJAp--_"
   },
   "outputs": [
    {
     "name": "stdout",
     "output_type": "stream",
     "text": [
      "вероятность того, что пассажир выживет, если пассажир ехал в первом классе:  0.6296296296296297\n"
     ]
    }
   ],
   "source": [
    "a = X['Pclass'].values\n",
    "b = X['Survived'].values\n",
    "c = []\n",
    "for i in range(len(a)):\n",
    "    if a[i] == 1:\n",
    "        c.append(b[i])\n",
    "\n",
    "n = 0\n",
    "for j in c:\n",
    "    if j == 1:\n",
    "        n += 1\n",
    "\n",
    "P_cond_surv_1class = n/len(c)\n",
    "print('вероятность того, что пассажир выживет, если пассажир ехал в первом классе: ', P_cond_surv_1class)"
   ]
  },
  {
   "cell_type": "markdown",
   "metadata": {
    "id": "t0acZwYNpVjs"
   },
   "source": [
    "7. Найдите вероятность того, что пассажир выживет при условии, что пассажир ехал в первом классе и является женщиной.\n"
   ]
  },
  {
   "cell_type": "code",
   "execution_count": 22,
   "metadata": {
    "id": "bwy-iTMnqONj"
   },
   "outputs": [
    {
     "name": "stdout",
     "output_type": "stream",
     "text": [
      "вероятность выживания пассажира при условии, что он ехал в 1 классе и является женщиной:  0.9680851063829787\n"
     ]
    }
   ],
   "source": [
    "a = X['Sex'].values\n",
    "b = X['Pclass'].values\n",
    "d = X['Survived'].values\n",
    "c = []\n",
    "for i in range(len(a)):\n",
    "    if a[i] == 'female' and b[i] == 1:\n",
    "        c.append(d[i])\n",
    "\n",
    "n = 0\n",
    "for j in c:\n",
    "    if j == 1:\n",
    "        n += 1\n",
    "\n",
    "P_cond_surv_1class_fem = n/len(c)\n",
    "print('вероятность выживания пассажира при условии, что он ехал в 1 классе и является женщиной: ', P_cond_surv_1class_fem)"
   ]
  },
  {
   "cell_type": "markdown",
   "metadata": {
    "id": "YUzlJ1SVpXYN"
   },
   "source": [
    "8. Найдите вероятность того, что пассажир выживет при условии, что пассажир ехал во втором классе и является мужчиной.\n"
   ]
  },
  {
   "cell_type": "code",
   "execution_count": 23,
   "metadata": {
    "id": "DWTRkJlHqW1W"
   },
   "outputs": [
    {
     "name": "stdout",
     "output_type": "stream",
     "text": [
      "вероятность выживания пассажира при условии, что он ехал во 2 классе и является мужчиной:  0.1574074074074074\n"
     ]
    }
   ],
   "source": [
    "a = X['Sex'].values\n",
    "b = X['Pclass'].values\n",
    "d = X['Survived'].values\n",
    "c = []\n",
    "for i in range(len(a)):\n",
    "    if a[i] == 'male' and b[i] == 2:\n",
    "        c.append(d[i])\n",
    "\n",
    "n = 0\n",
    "for j in c:\n",
    "    if j == 1:\n",
    "        n += 1\n",
    "\n",
    "P_cond_surv_2class_male = n/len(c)\n",
    "print('вероятность выживания пассажира при условии, что он ехал во 2 классе и является мужчиной: ', P_cond_surv_2class_male)"
   ]
  },
  {
   "cell_type": "markdown",
   "metadata": {
    "id": "8Nbz8Xb0pYuj"
   },
   "source": [
    "9. Используя посчитанные вероятности, найдите вероятность того, что случайно выбранный пассажир — женщина, если мы знаем, что пассажир выжил.\n"
   ]
  },
  {
   "cell_type": "code",
   "execution_count": 24,
   "metadata": {
    "id": "I8JLH18Uql9V"
   },
   "outputs": [
    {
     "name": "stdout",
     "output_type": "stream",
     "text": [
      "0.6812865497076024\n"
     ]
    }
   ],
   "source": [
    "#Как \"лингвист\" я не очень, но кажется, что это задание № 9, и задание №4 ( приведено ниже) идентичны\n",
    "#задание №4: \"вероятность, что пассажир — женщина, и одновременно с этим пассажир выжила в катастрофе\"\n",
    "\n",
    "P_cond_fem_surv = P_fem_surv\n",
    "print(P_cond_fem_surv)"
   ]
  },
  {
   "cell_type": "markdown",
   "metadata": {
    "id": "b5UDgMYKpaMU"
   },
   "source": [
    "10. Используя посчитанные вероятности, найдите вероятность того, что случайно выбранный пассажир ехал в первом классе, если мы знаем, что пассажир выжил.\n"
   ]
  },
  {
   "cell_type": "code",
   "execution_count": 30,
   "metadata": {
    "id": "PcjRugZzqss1"
   },
   "outputs": [
    {
     "name": "stdout",
     "output_type": "stream",
     "text": [
      "ввероятность того, что пассажир ехал в первом классе, если мы знаем, что пассажир выжил:  0.39766081871345027\n"
     ]
    },
    {
     "data": {
      "text/plain": [
       "0.6296296296296297"
      ]
     },
     "execution_count": 30,
     "metadata": {},
     "output_type": "execute_result"
    }
   ],
   "source": [
    "a = X['Survived'].values\n",
    "b = X['Pclass'].values\n",
    "c = []\n",
    "for i in range(len(a)):\n",
    "    if a[i] == 1:\n",
    "        c.append(b[i])\n",
    "\n",
    "n = 0\n",
    "for j in c:\n",
    "    if j == 1:\n",
    "        n += 1\n",
    "\n",
    "P_cond_1class_surv = n/len(c)\n",
    "print('ввероятность того, что пассажир ехал в первом классе, если мы знаем, что пассажир выжил: ', P_cond_1class_surv)\n",
    "P_cond_surv_1class"
   ]
  },
  {
   "cell_type": "markdown",
   "metadata": {
    "id": "yQHFXtulpbwm"
   },
   "source": [
    "11. Сравните полученные вероятности с безусловными вероятностями соответствующих событий. Объясните разницу в значениях."
   ]
  },
  {
   "cell_type": "code",
   "execution_count": 45,
   "metadata": {
    "id": "rNgeDAeeq3SM"
   },
   "outputs": [],
   "source": [
    "#    безусловные\n",
    "# P_fem = 0.35241301907968575 - означает что доля женщин на корабле 35%\n",
    "# P_1class = 0.24242424242424243 - в первом классе ехало 24% от всех\n",
    "# P_surv = 0.3838383838383838 - всего выжило 38% из всех пассажиров\n",
    "#    условные\n",
    "# P_fem_surv = 0.6812865497076024 - что среди выживших женщи было 68%\n",
    "# P_cond_surv_fem = 0.7420382165605095 - что из всех женщин на корабле выжило 74%\n",
    "# P_cond_surv_1class = 0.6296296296296297 - что выживших из пассажиров первого класса 63%\n",
    "# P_cond_surv_1class_fem = 0.9680851063829787 - что среди женщин из первого класса выжили 97%\n",
    "# P_cond_surv_2class_male = 0.1574074074074074 - что среди мужчин ехавших вторым классом выжило 16%\n",
    "# P_cond_1class_surv = 0.39766081871345027 - что среди выживших граждан из первого класса было 40%\n",
    "\n",
    "# разница безусловной вероятности от условной состоит в том, что безусловное считается от всего объёма, \n",
    "# а условная считается от объёма, который соответствует условию (или условиям)"
   ]
  },
  {
   "cell_type": "markdown",
   "metadata": {
    "id": "o7W2eNBuqzAF"
   },
   "source": [
    "."
   ]
  },
  {
   "cell_type": "markdown",
   "metadata": {
    "id": "uPoHizfkrDDx"
   },
   "source": [
    "### **Задание 3**\n",
    "Рассмотрим датасет со статистикой почтового ящика `letters.xlsx`. Данные можно найти в материалах к практической работе. Там содержится 248 записей с информацией о письмах. \n",
    "\n",
    "Нам хочется узнать, является ли новое письмо, пришедшее к нам на почту, спамом. Для этого у нас существует статистика писем. Каждое пришедшее письмо может быть либо спамом, либо нет. При этом и спам, и нормальные письма могут содержать слова, характерные для спам-писем. Данный датасет представляет собой набор записей с информацией о пришедших ранее письмах, распознанных человеком как спам или нет. \n",
    "\n",
    "\n"
   ]
  },
  {
   "cell_type": "code",
   "execution_count": null,
   "metadata": {},
   "outputs": [],
   "source": [
    "titanic = pd.read_csv(\"train.csv\")\n",
    "X = titanic[['PassengerId','Survived','Pclass','Sex']]"
   ]
  },
  {
   "cell_type": "code",
   "execution_count": 49,
   "metadata": {
    "colab": {
     "base_uri": "https://localhost:8080/",
     "height": 455
    },
    "id": "97q3xYj7a2On",
    "outputId": "fd7d7b10-c391-4ebe-dda4-0199fa8767f3"
   },
   "outputs": [
    {
     "data": {
      "text/html": [
       "<div>\n",
       "<style scoped>\n",
       "    .dataframe tbody tr th:only-of-type {\n",
       "        vertical-align: middle;\n",
       "    }\n",
       "\n",
       "    .dataframe tbody tr th {\n",
       "        vertical-align: top;\n",
       "    }\n",
       "\n",
       "    .dataframe thead th {\n",
       "        text-align: right;\n",
       "    }\n",
       "</style>\n",
       "<table border=\"1\" class=\"dataframe\">\n",
       "  <thead>\n",
       "    <tr style=\"text-align: right;\">\n",
       "      <th></th>\n",
       "      <th>spam</th>\n",
       "      <th>spam_words</th>\n",
       "    </tr>\n",
       "    <tr>\n",
       "      <th>id_letter</th>\n",
       "      <th></th>\n",
       "      <th></th>\n",
       "    </tr>\n",
       "  </thead>\n",
       "  <tbody>\n",
       "    <tr>\n",
       "      <th>1</th>\n",
       "      <td>да</td>\n",
       "      <td>нет</td>\n",
       "    </tr>\n",
       "    <tr>\n",
       "      <th>2</th>\n",
       "      <td>да</td>\n",
       "      <td>да</td>\n",
       "    </tr>\n",
       "    <tr>\n",
       "      <th>3</th>\n",
       "      <td>нет</td>\n",
       "      <td>нет</td>\n",
       "    </tr>\n",
       "    <tr>\n",
       "      <th>4</th>\n",
       "      <td>нет</td>\n",
       "      <td>да</td>\n",
       "    </tr>\n",
       "    <tr>\n",
       "      <th>5</th>\n",
       "      <td>да</td>\n",
       "      <td>да</td>\n",
       "    </tr>\n",
       "    <tr>\n",
       "      <th>...</th>\n",
       "      <td>...</td>\n",
       "      <td>...</td>\n",
       "    </tr>\n",
       "    <tr>\n",
       "      <th>244</th>\n",
       "      <td>нет</td>\n",
       "      <td>нет</td>\n",
       "    </tr>\n",
       "    <tr>\n",
       "      <th>245</th>\n",
       "      <td>нет</td>\n",
       "      <td>нет</td>\n",
       "    </tr>\n",
       "    <tr>\n",
       "      <th>246</th>\n",
       "      <td>нет</td>\n",
       "      <td>нет</td>\n",
       "    </tr>\n",
       "    <tr>\n",
       "      <th>247</th>\n",
       "      <td>нет</td>\n",
       "      <td>нет</td>\n",
       "    </tr>\n",
       "    <tr>\n",
       "      <th>248</th>\n",
       "      <td>нет</td>\n",
       "      <td>нет</td>\n",
       "    </tr>\n",
       "  </tbody>\n",
       "</table>\n",
       "<p>248 rows × 2 columns</p>\n",
       "</div>"
      ],
      "text/plain": [
       "          spam spam_words\n",
       "id_letter                \n",
       "1           да        нет\n",
       "2           да         да\n",
       "3          нет        нет\n",
       "4          нет         да\n",
       "5           да         да\n",
       "...        ...        ...\n",
       "244        нет        нет\n",
       "245        нет        нет\n",
       "246        нет        нет\n",
       "247        нет        нет\n",
       "248        нет        нет\n",
       "\n",
       "[248 rows x 2 columns]"
      ]
     },
     "execution_count": 49,
     "metadata": {},
     "output_type": "execute_result"
    }
   ],
   "source": [
    "df = pd.read_excel('letters.xlsx', sheet_name='Sheet1', index_col='id_letter')\n",
    "df"
   ]
  },
  {
   "cell_type": "markdown",
   "metadata": {
    "id": "VXZ48zp6s34j"
   },
   "source": [
    "Столбец `spam` отвечает на вопрос, является письмо спамом или нет, `spam_words` — содержит ли оно слова, встречающиеся в спам-письмах.\n",
    "\n",
    "1. Найдите долю спам-писем по отношению ко всем.\n",
    "\n"
   ]
  },
  {
   "cell_type": "code",
   "execution_count": 66,
   "metadata": {
    "id": "2-Xbar2xs_An"
   },
   "outputs": [
    {
     "name": "stdout",
     "output_type": "stream",
     "text": [
      "0.3548387096774194\n"
     ]
    }
   ],
   "source": [
    "a =  df['spam'].values\n",
    "n = 0\n",
    "for i in a:\n",
    "    if i == 'да':\n",
    "        n += 1\n",
    "      \n",
    "P_sp = n/len(a)      \n",
    "print(P_sp)    "
   ]
  },
  {
   "cell_type": "markdown",
   "metadata": {
    "id": "K0FHedEys_au"
   },
   "source": [
    "2. Найдите долю писем со спам-подобными словами по отношению ко всем.\n"
   ]
  },
  {
   "cell_type": "code",
   "execution_count": 68,
   "metadata": {
    "id": "USOq8sNutCxC"
   },
   "outputs": [
    {
     "name": "stdout",
     "output_type": "stream",
     "text": [
      "0.375\n"
     ]
    }
   ],
   "source": [
    "a =  df['spam_words'].values\n",
    "n = 0\n",
    "for i in a:\n",
    "    if i == 'да':\n",
    "        n += 1\n",
    "P_sw = n/len(a)      \n",
    "print(P_sw) "
   ]
  },
  {
   "cell_type": "markdown",
   "metadata": {
    "id": "x8OiJqvCtDCD"
   },
   "source": [
    "3. Найдите вероятность, что письмо содержит спам-подобные слова при условии, что оно является спамом.\n"
   ]
  },
  {
   "cell_type": "code",
   "execution_count": 69,
   "metadata": {
    "id": "4IwG20wNtGQ1"
   },
   "outputs": [
    {
     "name": "stdout",
     "output_type": "stream",
     "text": [
      "0.36363636363636365\n"
     ]
    }
   ],
   "source": [
    "a = df['spam'].values\n",
    "b = df['spam_words'].values\n",
    "c = []\n",
    "for i in range(len(a)):\n",
    "    if a[i] == 'да':\n",
    "        c.append(b[i])\n",
    "n = 0\n",
    "for j in c:\n",
    "    if j == 'да':\n",
    "        n += 1\n",
    "\n",
    "P_sw_sp = n/len(c)\n",
    "print(P_sw_sp)"
   ]
  },
  {
   "cell_type": "markdown",
   "metadata": {
    "id": "ruU9vLPVtGoK"
   },
   "source": [
    "4. Найдите вероятность, что письмо является спамом при условии, что оно содержит спам-подобные слова.\n"
   ]
  },
  {
   "cell_type": "code",
   "execution_count": 70,
   "metadata": {
    "id": "q93GX-X6tJOT"
   },
   "outputs": [
    {
     "name": "stdout",
     "output_type": "stream",
     "text": [
      "0.3440860215053763\n"
     ]
    }
   ],
   "source": [
    "Psp_sw = P_sw_sp * P_sp/P_sw\n",
    "print(Psp_sw)"
   ]
  }
 ],
 "metadata": {
  "colab": {
   "provenance": []
  },
  "kernelspec": {
   "display_name": "Python 3 (ipykernel)",
   "language": "python",
   "name": "python3"
  },
  "language_info": {
   "codemirror_mode": {
    "name": "ipython",
    "version": 3
   },
   "file_extension": ".py",
   "mimetype": "text/x-python",
   "name": "python",
   "nbconvert_exporter": "python",
   "pygments_lexer": "ipython3",
   "version": "3.9.12"
  }
 },
 "nbformat": 4,
 "nbformat_minor": 1
}
