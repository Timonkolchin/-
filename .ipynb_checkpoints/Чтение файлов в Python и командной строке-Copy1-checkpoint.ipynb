{
 "cells": [
  {
   "cell_type": "markdown",
   "id": "194ee24b-50d1-4175-b37e-2e3f7e762269",
   "metadata": {
    "id": "194ee24b-50d1-4175-b37e-2e3f7e762269"
   },
   "source": [
    "# Чтение файлов в Python и командной строке. \n",
    "\n",
    "1. Работа с файлами в командной строке.\n",
    "2. Работа с файлами в Python 1.\n",
    "3. Работа с файлами в Python 2.\n",
    "4. Импортирование модулей.\n",
    "5. Установка внешних модулей через pip.\n",
    "6. Бонусное задание.\n",
    "\n",
    "---"
   ]
  },
  {
   "cell_type": "markdown",
   "id": "a44f6df4",
   "metadata": {
    "id": "a44f6df4"
   },
   "source": [
    "## Задание 1. Работа с файлами в командной строке\n",
    "\n",
    "Ранее вы считали количество всех слов в рассказе А. П. Чехова «Анна на шее». Теперь необходимо определить, сколько раз каждое слово встречается в тексте.\n",
    "\n",
    "Посчитайте количество уникальных слов и определите частоту встречаемости каждого слова. Информацию в виде `частота слово` сохраните в текстовый файл. Для этого:\n",
    "1. Измените конвейер команд так, чтобы он выводил слова и их частоту встречаемости на экран.\n",
    "2. Перенаправьте вывод конвейера в текстовый файл `words_freq.txt`.\n",
    "3. Скопируйте конвейер команд в ячейку, которая расположена непосредственно под этой."
   ]
  },
  {
   "cell_type": "markdown",
   "id": "ac416392",
   "metadata": {
    "id": "ac416392"
   },
   "source": [
    "### Вставьте конвейер команд, который у вас получился"
   ]
  },
  {
   "cell_type": "code",
   "execution_count": null,
   "id": "f26a4255",
   "metadata": {},
   "outputs": [],
   "source": [
    "\n",
    "# cat anna_words.txt | sort | uniq -c >words_freq.txt\n"
   ]
  },
  {
   "cell_type": "code",
   "execution_count": null,
   "id": "b9b13546-4933-4e8c-b0a7-62ce13863320",
   "metadata": {
    "id": "b9b13546-4933-4e8c-b0a7-62ce13863320",
    "outputId": "ce4e0dfb-e91d-4337-984a-5d9811bb449b"
   },
   "outputs": [
    {
     "name": "stdout",
     "output_type": "stream",
     "text": [
      "11.2_Шпаргалка.docx\t      11.6_Практическая_работа.ipynb\n",
      "11.5_Пометка_по_пакетам.docx\n"
     ]
    }
   ],
   "source": [
    "!ls"
   ]
  },
  {
   "cell_type": "raw",
   "id": "35aa50c3-7d4e-4667-8157-da4ad8761cdd",
   "metadata": {
    "id": "35aa50c3-7d4e-4667-8157-da4ad8761cdd"
   },
   "source": []
  },
  {
   "cell_type": "markdown",
   "id": "3952c1a6",
   "metadata": {
    "id": "3952c1a6"
   },
   "source": [
    "---\n",
    "\n",
    "## Задание 2. Работа с файлами в Python 1\n",
    "\n",
    "### Что нужно сделать\n",
    "В рассказе А. П. Чехова «Анна на шее» найдите десять слов, которые встречаются чаще всего. \n",
    "\n",
    "1. Напишите код на Python, который читает файл `word_freq.txt` по строкам, преобразует каждую из них в кортеж `(частота, слово)` и складывает полученные кортежи в список. \n",
    "2. Отсортируйте список по частотам, выведите на экран десять самых популярных слов и их частоты.\n"
   ]
  },
  {
   "cell_type": "code",
   "execution_count": 2,
   "id": "b7d9e83c",
   "metadata": {
    "scrolled": true
   },
   "outputs": [
    {
     "name": "stdout",
     "output_type": "stream",
     "text": [
      "[(40, 'аня'), (28, 'свой'), (19, 'говорить'), (17, 'это'), (17, 'сказать'), (17, 'модест'), (17, 'который'), (17, 'алексеич'), (16, 'человек'), (16, 'рука')]\n"
     ]
    }
   ],
   "source": [
    "with open('words_freq.txt', encoding=\"utf-8\") as file:\n",
    "    words = [(int(w.strip(' , . '' ').split()[0]), str(w.strip(' , . '' ').split()[1])) for w in file]\n",
    "    \n",
    "    words_sort = sorted(words, reverse=True)\n",
    "    print(words_sort[: 10])\n"
   ]
  },
  {
   "cell_type": "code",
   "execution_count": 1,
   "id": "2a5303b4",
   "metadata": {},
   "outputs": [],
   "source": [
    "# выполнил этот файл в python и отправил результат в текстовый файл требуемого названия \n",
    "\n",
    "! python zad2.txt > words_sort.txt"
   ]
  },
  {
   "cell_type": "markdown",
   "id": "8639569c",
   "metadata": {
    "id": "8639569c"
   },
   "source": [
    "---\n",
    "\n",
    "## Задание 3. Работа с файлами в Python 2\n",
    "\n",
    "### Что нужно сделать\n",
    "Найдите букву, с которой чаще всего начинаются слова в рассказе А. П. Чехова «Анна на шее». \n",
    "1. Используйте файл с частотами слов `words_freq.txt`. \n",
    "2. Напишите код в Python, который выводит на экран самую популярную первую букву и количество слов на неё.\n"
   ]
  },
  {
   "cell_type": "code",
   "execution_count": 1,
   "id": "ca8726f1",
   "metadata": {},
   "outputs": [],
   "source": [
    "# второй раз надо перевести файл в список, поэтому сделал функцию, но выше переделывать не стал\n",
    "def list_sort(file):    \n",
    "    words = [(int(w.strip(' , . '' ').split()[0]), str(w.strip(' , . '' ').split()[1])) for w in file] \n",
    "       \n",
    "    return(words)"
   ]
  },
  {
   "cell_type": "code",
   "execution_count": 2,
   "id": "8dc56a6c",
   "metadata": {},
   "outputs": [],
   "source": [
    "# функция поиска  первой буквы с максимальным количеством в тексте\n",
    "def score_max(dict_in_list):\n",
    "    a = sorted(dict_in_list, key=lambda x: x[1]) \n",
    "    \n",
    "    n1 = a[0][0]\n",
    "    n2 = 0\n",
    "    for i in range(1, len(a)):\n",
    "        if a[i][1][0] == a[i-1][1][0]:\n",
    "            n1 += a[i][0]\n",
    "            if n1 > n2:\n",
    "                n2 = n1\n",
    "                b2 = a[i][1][0]\n",
    "        else:\n",
    "        \n",
    "            n1 = a[i][0]\n",
    "    return n2, b2 "
   ]
  },
  {
   "cell_type": "code",
   "execution_count": 8,
   "id": "99b0c3b6",
   "metadata": {},
   "outputs": [
    {
     "name": "stdout",
     "output_type": "stream",
     "text": [
      "(318, 'п')\n"
     ]
    }
   ],
   "source": [
    "with open('words_freq.txt', 'r', encoding=\"utf-8\") as file:\n",
    "    a = list_sort(file)\n",
    "    print(score_max(a))"
   ]
  },
  {
   "cell_type": "markdown",
   "id": "b94a18e9",
   "metadata": {
    "id": "b94a18e9"
   },
   "source": [
    "---\n",
    "\n",
    "## Задание 4. Импортирование модулей\n",
    "\n",
    "###Что нужно сделать\n",
    "Напишите функцию `circ_sqrt`. Она должна принимать один параметр `r` типа `float` и возвращать квадратный корень из длины окружности радиуса `r`.\n"
   ]
  },
  {
   "cell_type": "code",
   "execution_count": 2,
   "id": "f9ddadb6",
   "metadata": {
    "id": "f9ddadb6"
   },
   "outputs": [
    {
     "data": {
      "text/plain": [
       "4.001013750297909"
      ]
     },
     "execution_count": 2,
     "metadata": {},
     "output_type": "execute_result"
    }
   ],
   "source": [
    "import math\n",
    "\n",
    "def circ_sqrt(r):\n",
    "    p = (2*math.pi*float(r))**(1/2) \n",
    "    return(p)\n",
    "    \n",
    "    \n",
    "circ_sqrt(2.54777)"
   ]
  },
  {
   "cell_type": "markdown",
   "id": "73df457b",
   "metadata": {
    "id": "73df457b"
   },
   "source": [
    "---\n",
    "\n",
    "## Задание 5. Установка внешних модулей через pip\n"
   ]
  },
  {
   "cell_type": "code",
   "execution_count": 4,
   "id": "e981882f",
   "metadata": {},
   "outputs": [],
   "source": [
    "import cowsay\n",
    "import wikipedia"
   ]
  },
  {
   "cell_type": "code",
   "execution_count": 5,
   "id": "27d13c96",
   "metadata": {},
   "outputs": [],
   "source": [
    "def random_article(a):\n",
    "    b = cowsay.cow(wikipedia.summary(a))\n",
    "    return b"
   ]
  },
  {
   "cell_type": "code",
   "execution_count": 6,
   "id": "0bcef852",
   "metadata": {},
   "outputs": [
    {
     "name": "stdout",
     "output_type": "stream",
     "text": [
      "  _________________________________________________\n",
      " /                                                 \\\n",
      "| The Independents of Economic, Social and Peasant  |\n",
      "| Action (French: Indépendants d'action économique, |\n",
      "|  sociale et paysanne, IAESP) was a small French p |\n",
      "| arliamentary technical group in the Chamber of De |\n",
      "| puties of France during the French Third Republic |\n",
      "|  in existence in 1932 and 1936.                   |\n",
      "| It was a small conservative agrarian group compos |\n",
      "| ed of members of the Republican, Social and Agrar |\n",
      "| ian Party (French: Parti républicain agraire et s |\n",
      "| ocial, PRAS). The PRAS was a small dissident part |\n",
      "| y of the French Agrarian and Peasant Party (PAPF) |\n",
      "|  founded by Louis Guillon.                        |\n",
      " \\                                                 /\n",
      "  =================================================\n",
      "                                                 \\\n",
      "                                                  \\\n",
      "                                                    ^__^\n",
      "                                                    (oo)\\_______\n",
      "                                                    (__)\\       )\\/\\\n",
      "                                                        ||----w |\n",
      "                                                        ||     ||\n"
     ]
    }
   ],
   "source": [
    "random_article(wikipedia.random())"
   ]
  },
  {
   "cell_type": "code",
   "execution_count": null,
   "id": "0cdf33fd",
   "metadata": {},
   "outputs": [],
   "source": [
    "cowsay.cow(wikipedia.summary(wikipedia.random()))"
   ]
  },
  {
   "cell_type": "markdown",
   "id": "af263b7d",
   "metadata": {
    "id": "af263b7d"
   },
   "source": [
    "---\n",
    "\n",
    "## Задание 6. Бонусное\n",
    "\n",
    "### Что нужно сделать\n",
    "\n",
    "Выясните, как слова в рассказе «Анна на шее» распределяются по длине. \n",
    "\n",
    "1. Посчитайте, сколько слов длины 1, 2 и так далее в файле anna_words.txt.\n",
    "\n",
    "2. Выведите на экран информацию в формате `длина количество_слов`, отсортируйте её по возрастанию длины.\n",
    "\n",
    "3. Перенесите вывод программы в Excel или Google Таблицы и постройте столбчатую диаграмму. \n",
    "\n",
    "4. Сравните ваш график с [распределением русских слов по длине](http://nskhuman.ru/unislov/statist.php?nstat=21). В гистограмме по ссылке больше данных, поэтому она лучше показывает соотношение длины слов и их количества в русском языке.\n"
   ]
  },
  {
   "cell_type": "code",
   "execution_count": 1,
   "id": "89122663",
   "metadata": {},
   "outputs": [],
   "source": [
    "# ниже первый вариант решения. Он оказался самым долгоисполняемым - 100 ms\n",
    "def list_sort_n(file):               \n",
    "    list_n1 = [len(i) for i in file] \n",
    "    list_n2 = sorted(list_n1)        \n",
    "    return(list_n2)"
   ]
  },
  {
   "cell_type": "code",
   "execution_count": 2,
   "id": "2a0ffe42",
   "metadata": {},
   "outputs": [],
   "source": [
    "def dict_n(list_1):\n",
    "    d_n = {i: list_1.count(i) for i in list_1}\n",
    "    return(d_n)"
   ]
  },
  {
   "cell_type": "code",
   "execution_count": 9,
   "id": "d50bd655",
   "metadata": {},
   "outputs": [
    {
     "name": "stdout",
     "output_type": "stream",
     "text": [
      "{1: 6, 2: 13, 3: 127, 4: 299, 5: 288, 6: 334, 7: 399, 8: 314, 9: 182, 10: 124, 11: 111, 12: 45, 13: 21, 14: 11, 15: 7, 16: 1, 17: 4, 18: 2}\n"
     ]
    }
   ],
   "source": [
    "with open('anna_words.txt', 'r', encoding='utf-8') as file:\n",
    "    w = file.read().strip(' , . '' \\ \\n').split()\n",
    "    a = list_sort_n(w)\n",
    "    b = dict_n(a)\n",
    "    print(b)"
   ]
  },
  {
   "cell_type": "code",
   "execution_count": null,
   "id": "595ce0b4",
   "metadata": {},
   "outputs": [],
   "source": []
  },
  {
   "cell_type": "code",
   "execution_count": null,
   "id": "274e2c5d",
   "metadata": {},
   "outputs": [],
   "source": [
    "# это второй вариант решения. Он оказался сильно быстрее - 6.7 ms\n",
    "sort_len = dict()\n",
    "with open('anna_words2.txt', 'r', encoding='utf-8') as file:\n",
    "    w = file.read().strip().split()\n",
    "    min_list = len(min(w, key=len))\n",
    "    max_list = len(max(w, key=len))\n",
    "    for i in range(min_list, max_list+1):\n",
    "        n = 0\n",
    "        for j in w:\n",
    "            if i == len(j):\n",
    "                n += 1\n",
    "        sort_len[i] = n\n",
    "    print(sort_len)"
   ]
  },
  {
   "cell_type": "code",
   "execution_count": null,
   "id": "d9ef533b",
   "metadata": {},
   "outputs": [],
   "source": [
    "# это третий вариант решения. Он оказался самым быстрым (3 ms), но словарь в нём не отсортирован, а такой пунктик в\n",
    "# задании есть, хоть он и не сильно необходим\n",
    "hist = {}\n",
    "with open('anna_words2.txt', 'r', encoding='utf-8') as file:\n",
    "    for word in file:\n",
    "        word = word.strip()\n",
    "        word_len = len(word)\n",
    "        \n",
    "        if word_len not in hist:\n",
    "            hist[word_len] = 1\n",
    "        else:\n",
    "            hist[word_len] += 1\n",
    "    \n",
    "    print(hist)"
   ]
  },
  {
   "cell_type": "code",
   "execution_count": null,
   "id": "6369202b",
   "metadata": {},
   "outputs": [],
   "source": [
    "\n",
    "with open('len_freqs.csv', 'w') as out:\n",
    "    for k, v in sorted(hist.items()):\n",
    "        out.write(f'{k}  {v}\\n')\n",
    "   "
   ]
  }
 ],
 "metadata": {
  "colab": {
   "collapsed_sections": [],
   "provenance": []
  },
  "kernelspec": {
   "display_name": "Python 3 (ipykernel)",
   "language": "python",
   "name": "python3"
  },
  "language_info": {
   "codemirror_mode": {
    "name": "ipython",
    "version": 3
   },
   "file_extension": ".py",
   "mimetype": "text/x-python",
   "name": "python",
   "nbconvert_exporter": "python",
   "pygments_lexer": "ipython3",
   "version": "3.9.12"
  }
 },
 "nbformat": 4,
 "nbformat_minor": 5
}
